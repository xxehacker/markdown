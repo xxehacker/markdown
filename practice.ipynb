{
 "cells": [
  {
   "cell_type": "markdown",
   "id": "eebfd377-7f91-4d0d-9e71-e0baf6711dc8",
   "metadata": {},
   "source": [
    "# Data Science Tools and Ecosystem"
   ]
  },
  {
   "cell_type": "markdown",
   "id": "bd14b62c-769f-4275-904c-51ccb94fbcaa",
   "metadata": {},
   "source": [
    "# Introduction: In this notebook, Data Science Tools and Ecosystem are summarized.\n"
   ]
  },
  {
   "cell_type": "markdown",
   "id": "daa85528-7513-46ed-98f2-341b3985a885",
   "metadata": {},
   "source": [
    "## Data Science Languages\n",
    "- Python\n",
    "- R\n",
    "- SQL\n",
    "- Julia"
   ]
  },
  {
   "cell_type": "markdown",
   "id": "a75f5e91-6600-4863-8c9c-4098cdb5a909",
   "metadata": {},
   "source": [
    "## Data Science Libraries\n",
    "- Pandas\n",
    "- NumPy\n",
    "- Scikit-learn\n",
    "- TensorFlow\n",
    "- Matplotlib"
   ]
  },
  {
   "cell_type": "markdown",
   "id": "bb8c078e-6498-4b52-ade6-2ea07e00e89a",
   "metadata": {},
   "source": [
    "\n",
    "## Data Science Tools\n",
    "| Tool | Use |\n",
    "| ---- | --- |\n",
    "| Jupyter Notebook | Interactive computing and data visualization. |\n",
    "| RStudio | Environment for statistical analysis and visualization. |\n",
    "| Apache Spark | Large-scale data processing. |\n",
    "| Tableau | Business intelligence and analytics. |"
   ]
  },
  {
   "cell_type": "code",
   "execution_count": 4,
   "id": "ae87f528-a78d-493e-9c40-a0829a6bcf85",
   "metadata": {},
   "outputs": [
    {
     "ename": "AttributeError",
     "evalue": "'int' object has no attribute 'a'",
     "output_type": "error",
     "traceback": [
      "\u001b[1;31m---------------------------------------------------------------------------\u001b[0m",
      "\u001b[1;31mAttributeError\u001b[0m                            Traceback (most recent call last)",
      "Cell \u001b[1;32mIn[4], line 4\u001b[0m\n\u001b[0;32m      2\u001b[0m a \u001b[38;5;241m=\u001b[39m \u001b[38;5;241m10\u001b[39m ; \n\u001b[0;32m      3\u001b[0m b \u001b[38;5;241m=\u001b[39m \u001b[38;5;241m20\u001b[39m;\n\u001b[1;32m----> 4\u001b[0m \u001b[38;5;28mprint\u001b[39m(a\u001b[38;5;241m+\u001b[39mb,a\u001b[38;5;241m-\u001b[39m\u001b[43mb\u001b[49m\u001b[38;5;241;43m.\u001b[39;49m\u001b[43m \u001b[49m\u001b[43ma\u001b[49m\u001b[38;5;241m*\u001b[39mb,a\u001b[38;5;241m/\u001b[39mb)\n",
      "\u001b[1;31mAttributeError\u001b[0m: 'int' object has no attribute 'a'"
     ]
    }
   ],
   "source": [
    "# Arithmetic Expression Examples\n",
    "a = 10 ; \n",
    "b = 20;\n",
    "print(a+b,a-, a*b,a/b)\n"
   ]
  },
  {
   "cell_type": "code",
   "execution_count": null,
   "id": "8f3fd5f2-667c-4410-9692-11c168adad44",
   "metadata": {},
   "outputs": [],
   "source": []
  }
 ],
 "metadata": {
  "kernelspec": {
   "display_name": "Python 3 (ipykernel)",
   "language": "python",
   "name": "python3"
  },
  "language_info": {
   "codemirror_mode": {
    "name": "ipython",
    "version": 3
   },
   "file_extension": ".py",
   "mimetype": "text/x-python",
   "name": "python",
   "nbconvert_exporter": "python",
   "pygments_lexer": "ipython3",
   "version": "3.12.0rc3"
  }
 },
 "nbformat": 4,
 "nbformat_minor": 5
}
