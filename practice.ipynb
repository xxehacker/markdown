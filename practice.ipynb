{
 "cells": [
  {
   "cell_type": "markdown",
   "id": "eebfd377-7f91-4d0d-9e71-e0baf6711dc8",
   "metadata": {},
   "source": [
    "# Data Science Tools and Ecosystem"
   ]
  },
  {
   "cell_type": "markdown",
   "id": "bd14b62c-769f-4275-904c-51ccb94fbcaa",
   "metadata": {},
   "source": [
    "# Introduction: In this notebook, Data Science Tools and Ecosystem are summarized.\n"
   ]
  },
  {
   "cell_type": "markdown",
   "id": "daa85528-7513-46ed-98f2-341b3985a885",
   "metadata": {},
   "source": [
    "## Data Science Languages\n",
    "- Python\n",
    "- R\n",
    "- SQL\n",
    "- Julia"
   ]
  },
  {
   "cell_type": "markdown",
   "id": "a75f5e91-6600-4863-8c9c-4098cdb5a909",
   "metadata": {},
   "source": [
    "## Data Science Libraries\n",
    "- Pandas\n",
    "- NumPy\n",
    "- Scikit-learn\n",
    "- TensorFlow\n",
    "- Matplotlib"
   ]
  },
  {
   "cell_type": "markdown",
   "id": "bb8c078e-6498-4b52-ade6-2ea07e00e89a",
   "metadata": {},
   "source": [
    "\n",
    "## Data Science Tools\n",
    "| Tool | Use |\n",
    "| ---- | --- |\n",
    "| Jupyter Notebook | Interactive computing and data visualization. |\n",
    "| RStudio | Environment for statistical analysis and visualization. |\n",
    "| Apache Spark | Large-scale data processing. |\n",
    "| Tableau | Business intelligence and analytics. |"
   ]
  },
  {
   "cell_type": "code",
   "execution_count": 10,
   "id": "ae87f528-a78d-493e-9c40-a0829a6bcf85",
   "metadata": {},
   "outputs": [
    {
     "name": "stdout",
     "output_type": "stream",
     "text": [
      "30 -10 200 0.5\n"
     ]
    }
   ],
   "source": [
    "# Arithmetic Expression Examples\n",
    "a = 10 ; \n",
    "b = 20;\n",
    "print(a+b,a-b, a*b,a/b)\n"
   ]
  },
  {
   "cell_type": "code",
   "execution_count": 8,
   "id": "8f3fd5f2-667c-4410-9692-11c168adad44",
   "metadata": {},
   "outputs": [
    {
     "name": "stdout",
     "output_type": "stream",
     "text": [
      "The result is: 21\n"
     ]
    }
   ],
   "source": [
    "# Multiply and Add Numbers\n",
    "result = (5 * 3) + (2 + 4)\n",
    "print(\"The result is:\", result)"
   ]
  },
  {
   "cell_type": "code",
   "execution_count": 9,
   "id": "7a186f9b-d413-4e91-a5b4-adf7786dd569",
   "metadata": {},
   "outputs": [
    {
     "name": "stdout",
     "output_type": "stream",
     "text": [
      "120 minutes is equal to 2.0 hours.\n"
     ]
    }
   ],
   "source": [
    "# Convert Minutes to Hours\n",
    "minutes = 120\n",
    "hours = minutes / 60\n",
    "print(f\"{minutes} minutes is equal to {hours} hours.\")\n"
   ]
  },
  {
   "cell_type": "markdown",
   "id": "8371fbff-26b8-4a69-afbb-a040f8e47921",
   "metadata": {},
   "source": [
    "## Objectives\n",
    "- To understand the use of various data science languages and libraries.\n",
    "- To perform basic arithmetic operations within a Jupyter Notebook.\n",
    "- To familiarize oneself with the data science toolkit.\n"
   ]
  },
  {
   "cell_type": "markdown",
   "id": "0d2e9af0-3dcf-4b91-b113-faa96a908cf9",
   "metadata": {},
   "source": [
    "## Author\n",
    "- Mridupawan Bordoloi"
   ]
  },
  {
   "cell_type": "code",
   "execution_count": null,
   "id": "adc57e55-1260-4a37-87b1-6d938924b7f9",
   "metadata": {},
   "outputs": [],
   "source": []
  }
 ],
 "metadata": {
  "kernelspec": {
   "display_name": "Python 3 (ipykernel)",
   "language": "python",
   "name": "python3"
  },
  "language_info": {
   "codemirror_mode": {
    "name": "ipython",
    "version": 3
   },
   "file_extension": ".py",
   "mimetype": "text/x-python",
   "name": "python",
   "nbconvert_exporter": "python",
   "pygments_lexer": "ipython3",
   "version": "3.12.0rc3"
  }
 },
 "nbformat": 4,
 "nbformat_minor": 5
}
